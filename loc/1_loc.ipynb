{
 "cells": [
  {
   "cell_type": "code",
   "execution_count": 1,
   "metadata": {},
   "outputs": [
    {
     "name": "stdout",
     "output_type": "stream",
     "text": [
      "done\n"
     ]
    }
   ],
   "source": [
    "%load_ext autoreload\n",
    "%autoreload 2\n",
    "\n",
    "from pathlib import Path\n",
    "from pprint import pformat\n",
    "\n",
    "from hloc import extract_features, match_features, pairs_from_covisibility\n",
    "from hloc import colmap_from_nvm, triangulation, localize_sfm, visualization\n",
    "print(\"done\")"
   ]
  },
  {
   "cell_type": "markdown",
   "metadata": {},
   "source": [
    "# Pipeline for outdoor day-night visual localization"
   ]
  },
  {
   "cell_type": "markdown",
   "metadata": {},
   "source": [
    "## Setup\n",
    "Here we declare the paths to the dataset, the reconstruction and localization outputs, and we choose the feature extractor and the matcher. You only need to download the [Aachen Day-Night dataset](https://www.visuallocalization.net/datasets/) and put it in `datasets/aachen/`, or change the path."
   ]
  },
  {
   "cell_type": "code",
   "execution_count": 15,
   "metadata": {},
   "outputs": [],
   "source": [
    "dataset = Path('datasets/MMW_BLD/')  # change this if your dataset is somewhere else\n",
    "images = dataset / 'images'\n",
    "\n",
    "pairs = Path('pairs/cv/')\n",
    "sfm_pairs = pairs / 'database_pairs-exhaustive.txt'  # top 20 most covisible in SIFT model\n",
    "loc_pairs = pairs / 'pairs-query.txt'  # top 50 retrieved by NetVLAD\n",
    "\n",
    "outputs = Path('outputs/CV/')  # where everything will be saved\n",
    "reference_sfm = outputs / 'sfm_superpoint+superglue'  # the SfM model we will build\n",
    "results = outputs / 'CV_hloc_superpoint+superglue_netvlad50.txt'  # the result file"
   ]
  },
  {
   "cell_type": "code",
   "execution_count": 3,
   "metadata": {},
   "outputs": [
    {
     "name": "stdout",
     "output_type": "stream",
     "text": [
      "Configs for feature extractors:\n",
      "{'d2net-ss': {'model': {'multiscale': False, 'name': 'd2net'},\n",
      "              'output': 'feats-d2net-ss',\n",
      "              'preprocessing': {'grayscale': False, 'resize_max': 1600}},\n",
      " 'dir': {'model': {'name': 'dir'},\n",
      "         'output': 'global-feats-dir',\n",
      "         'preprocessing': {'resize_max': 1024}},\n",
      " 'netvlad': {'model': {'name': 'netvlad'},\n",
      "             'output': 'global-feats-netvlad',\n",
      "             'preprocessing': {'resize_max': 1024}},\n",
      " 'r2d2': {'model': {'max_keypoints': 5000, 'name': 'r2d2'},\n",
      "          'output': 'feats-r2d2-n5000-r1024',\n",
      "          'preprocessing': {'grayscale': False, 'resize_max': 1024}},\n",
      " 'sift': {'model': {'name': 'sift'},\n",
      "          'output': 'feats-sift',\n",
      "          'preprocessing': {'grayscale': True, 'resize_max': 1600}},\n",
      " 'superpoint_aachen': {'model': {'max_keypoints': 4096,\n",
      "                                 'name': 'superpoint',\n",
      "                                 'nms_radius': 3},\n",
      "                       'output': 'feats-superpoint-n4096-r1024',\n",
      "                       'preprocessing': {'grayscale': True,\n",
      "                                         'resize_max': 1024}},\n",
      " 'superpoint_inloc': {'model': {'max_keypoints': 4096,\n",
      "                                'name': 'superpoint',\n",
      "                                'nms_radius': 4},\n",
      "                      'output': 'feats-superpoint-n4096-r1600',\n",
      "                      'preprocessing': {'grayscale': True, 'resize_max': 1600}},\n",
      " 'superpoint_max': {'model': {'max_keypoints': 4096,\n",
      "                              'name': 'superpoint',\n",
      "                              'nms_radius': 3},\n",
      "                    'output': 'feats-superpoint-n4096-rmax1600',\n",
      "                    'preprocessing': {'grayscale': True,\n",
      "                                      'resize_force': True,\n",
      "                                      'resize_max': 1600}}}\n",
      "Configs for feature matchers:\n",
      "{'NN-mutual': {'model': {'do_mutual_check': True, 'name': 'nearest_neighbor'},\n",
      "               'output': 'matches-NN-mutual'},\n",
      " 'NN-ratio': {'model': {'do_mutual_check': True,\n",
      "                        'name': 'nearest_neighbor',\n",
      "                        'ratio_threshold': 0.8},\n",
      "              'output': 'matches-NN-mutual-ratio.8'},\n",
      " 'NN-superpoint': {'model': {'distance_threshold': 0.7,\n",
      "                             'do_mutual_check': True,\n",
      "                             'name': 'nearest_neighbor'},\n",
      "                   'output': 'matches-NN-mutual-dist.7'},\n",
      " 'superglue': {'model': {'name': 'superglue',\n",
      "                         'sinkhorn_iterations': 50,\n",
      "                         'weights': 'outdoor'},\n",
      "               'output': 'matches-superglue'}}\n"
     ]
    }
   ],
   "source": [
    "# list the standard configurations available\n",
    "print(f'Configs for feature extractors:\\n{pformat(extract_features.confs)}')\n",
    "print(f'Configs for feature matchers:\\n{pformat(match_features.confs)}')"
   ]
  },
  {
   "cell_type": "code",
   "execution_count": 4,
   "metadata": {},
   "outputs": [],
   "source": [
    "# pick one of the configurations for extraction and matching\n",
    "# you can also simply write your own here!\n",
    "feature_conf = extract_features.confs['superpoint_aachen']\n",
    "matcher_conf = match_features.confs['superglue']"
   ]
  },
  {
   "cell_type": "markdown",
   "metadata": {},
   "source": [
    "## Extract local features for database and query images"
   ]
  },
  {
   "cell_type": "code",
   "execution_count": 5,
   "metadata": {},
   "outputs": [
    {
     "name": "stdout",
     "output_type": "stream",
     "text": [
      "[12/24/2021 08:57:36 INFO] Extracting local features with configuration:\n",
      "{'model': {'max_keypoints': 4096, 'name': 'superpoint', 'nms_radius': 3},\n",
      " 'output': 'feats-superpoint-n4096-r1024',\n",
      " 'preprocessing': {'grayscale': True, 'resize_max': 1024}}\n",
      "[12/24/2021 08:57:36 INFO] Found 81 images in root datasets/MMW_BLD/images.\n",
      "Loaded SuperPoint model\n"
     ]
    },
    {
     "name": "stderr",
     "output_type": "stream",
     "text": [
      "100%|███████████████████████████████████████████| 81/81 [01:52<00:00,  1.39s/it]"
     ]
    },
    {
     "name": "stdout",
     "output_type": "stream",
     "text": [
      "[12/24/2021 08:59:29 INFO] Finished exporting features.\n"
     ]
    },
    {
     "name": "stderr",
     "output_type": "stream",
     "text": [
      "\n"
     ]
    }
   ],
   "source": [
    "feature_path = extract_features.main(feature_conf, images, outputs)"
   ]
  },
  {
   "cell_type": "markdown",
   "metadata": {},
   "source": [
    "The function returns the path of the file in which all the extracted features are stored."
   ]
  },
  {
   "cell_type": "markdown",
   "metadata": {},
   "source": [
    "## Match the database images"
   ]
  },
  {
   "cell_type": "code",
   "execution_count": 12,
   "metadata": {},
   "outputs": [
    {
     "name": "stdout",
     "output_type": "stream",
     "text": [
      "[12/24/2021 09:16:21 INFO] Matching local features with configuration:\n",
      "{'model': {'name': 'superglue',\n",
      "           'sinkhorn_iterations': 50,\n",
      "           'weights': 'outdoor'},\n",
      " 'output': 'matches-superglue'}\n",
      "Loaded SuperGlue model (\"outdoor\" weights)\n"
     ]
    },
    {
     "name": "stderr",
     "output_type": "stream",
     "text": [
      "100%|█████████████████████████████████████| 1830/1830 [5:47:56<00:00, 11.41s/it]"
     ]
    },
    {
     "name": "stdout",
     "output_type": "stream",
     "text": [
      "[12/24/2021 15:04:19 INFO] Finished exporting matches.\n"
     ]
    },
    {
     "name": "stderr",
     "output_type": "stream",
     "text": [
      "\n"
     ]
    }
   ],
   "source": [
    "sfm_match_path = match_features.main(matcher_conf, sfm_pairs, feature_conf['output'], outputs)"
   ]
  },
  {
   "cell_type": "markdown",
   "metadata": {},
   "source": [
    "The function returns the path of the file in which all the computed matches are stored."
   ]
  },
  {
   "cell_type": "markdown",
   "metadata": {},
   "source": [
    "## Triangulate a new SfM model from the given poses\n",
    "We triangulate the sparse 3D pointcloud given the matches and the reference poses stored in the SIFT COLMAP model."
   ]
  },
  {
   "cell_type": "code",
   "execution_count": 13,
   "metadata": {},
   "outputs": [
    {
     "name": "stdout",
     "output_type": "stream",
     "text": [
      "[12/24/2021 20:40:34 INFO] Creating an empty model.\n",
      "[12/24/2021 20:40:35 INFO] Importing features into the database...\n"
     ]
    },
    {
     "name": "stderr",
     "output_type": "stream",
     "text": [
      "100%|██████████████████████████████████████████| 61/61 [00:00<00:00, 325.30it/s]\n"
     ]
    },
    {
     "name": "stdout",
     "output_type": "stream",
     "text": [
      "[12/24/2021 20:40:35 INFO] Importing matches into the database...\n"
     ]
    },
    {
     "name": "stderr",
     "output_type": "stream",
     "text": [
      "100%|█████████████████████████████████████| 1830/1830 [00:00<00:00, 1950.12it/s]"
     ]
    },
    {
     "name": "stdout",
     "output_type": "stream",
     "text": [
      "[12/24/2021 20:40:36 INFO] Performing geometric verification of the matches...\n"
     ]
    },
    {
     "name": "stderr",
     "output_type": "stream",
     "text": [
      "\n"
     ]
    },
    {
     "name": "stdout",
     "output_type": "stream",
     "text": [
      "[12/24/2021 20:41:59 INFO] Running the triangulation with command:\n",
      "colmap point_triangulator --database_path outputs/CV/sfm_superpoint+superglue/database.db --image_path datasets/MMW_BLD/images --input_path outputs/CV/sfm_superpoint+superglue/empty --output_path outputs/CV/sfm_superpoint+superglue --Mapper.ba_refine_focal_length 0 --Mapper.ba_refine_principal_point 0 --Mapper.ba_refine_extra_params 0\n",
      "[12/24/2021 20:42:04 INFO] Finished the triangulation with statistics:\n",
      "{'mean_reproj_error': 1.34794,\n",
      " 'mean_track_length': 3.670659,\n",
      " 'num_observations': 79690,\n",
      " 'num_observations_per_image': 1306.393443,\n",
      " 'num_reg_images': 61,\n",
      " 'num_sparse_points': 21710}\n"
     ]
    }
   ],
   "source": [
    "triangulation.main(\n",
    "    reference_sfm,\n",
    "    outputs / 'sfm_sift',\n",
    "    images,\n",
    "    sfm_pairs,\n",
    "    feature_path,\n",
    "    sfm_match_path,\n",
    "    colmap_path='colmap')  # change if COLMAP is not in your PATH"
   ]
  },
  {
   "cell_type": "markdown",
   "metadata": {},
   "source": [
    "## Match the query images\n",
    "Here we assume that the localization pairs are already computed using image retrieval (NetVLAD). To generate new pairs from your own global descriptors, have a look at `hloc/pairs_from_retrieval.py`. These pairs are also used for the localization - see below."
   ]
  },
  {
   "cell_type": "code",
   "execution_count": 17,
   "metadata": {},
   "outputs": [
    {
     "name": "stdout",
     "output_type": "stream",
     "text": [
      "[12/24/2021 20:46:08 INFO] Matching local features with configuration:\n",
      "{'model': {'name': 'superglue',\n",
      "           'sinkhorn_iterations': 50,\n",
      "           'weights': 'outdoor'},\n",
      " 'output': 'matches-superglue'}\n",
      "Loaded SuperGlue model (\"outdoor\" weights)\n"
     ]
    },
    {
     "name": "stderr",
     "output_type": "stream",
     "text": [
      "100%|█████████████████████████████████████| 1220/1220 [4:00:22<00:00, 11.82s/it]"
     ]
    },
    {
     "name": "stdout",
     "output_type": "stream",
     "text": [
      "[12/25/2021 00:46:31 INFO] Finished exporting matches.\n"
     ]
    },
    {
     "name": "stderr",
     "output_type": "stream",
     "text": [
      "\n"
     ]
    }
   ],
   "source": [
    "loc_match_path = match_features.main(matcher_conf, loc_pairs, feature_conf['output'], outputs)"
   ]
  },
  {
   "cell_type": "markdown",
   "metadata": {},
   "source": [
    "## Localize!\n",
    "Perform hierarchical localization using the precomputed retrieval and matches. The file `Aachen_hloc_superpoint+superglue_netvlad50.txt` will contain the estimated query poses. Have a look at `Aachen_hloc_superpoint+superglue_netvlad50.txt_logs.pkl` to analyze some statistics and find failure cases."
   ]
  },
  {
   "cell_type": "code",
   "execution_count": 19,
   "metadata": {},
   "outputs": [
    {
     "name": "stdout",
     "output_type": "stream",
     "text": [
      "[12/25/2021 01:22:01 INFO] Imported 20 images from queries_with_intrinsics.txt\n",
      "[12/25/2021 01:22:01 INFO] Reading 3D model...\n",
      "[12/25/2021 01:22:11 INFO] Starting localization...\n"
     ]
    },
    {
     "name": "stderr",
     "output_type": "stream",
     "text": [
      "100%|███████████████████████████████████████████| 20/20 [00:02<00:00,  7.30it/s]"
     ]
    },
    {
     "name": "stdout",
     "output_type": "stream",
     "text": [
      "[12/25/2021 01:22:14 INFO] Localized 20 / 20 images.\n",
      "[12/25/2021 01:22:14 INFO] Writing poses to outputs/CV/CV_hloc_superpoint+superglue_netvlad50.txt...\n",
      "[12/25/2021 01:22:14 INFO] Writing logs to outputs/CV/CV_hloc_superpoint+superglue_netvlad50.txt_logs.pkl...\n"
     ]
    },
    {
     "name": "stderr",
     "output_type": "stream",
     "text": [
      "\n"
     ]
    },
    {
     "name": "stdout",
     "output_type": "stream",
     "text": [
      "[12/25/2021 01:22:14 INFO] Done!\n"
     ]
    }
   ],
   "source": [
    "localize_sfm.main(\n",
    "    reference_sfm,\n",
    "    dataset / 'queries/queries_with_intrinsics.txt',\n",
    "    loc_pairs,\n",
    "    feature_path,\n",
    "    loc_match_path,\n",
    "    results,\n",
    "    covisibility_clustering=False)  # not required with SuperPoint+SuperGlue"
   ]
  }
 ],
 "metadata": {
  "kernelspec": {
   "display_name": "Python 3 (ipykernel)",
   "language": "python",
   "name": "python3"
  },
  "language_info": {
   "codemirror_mode": {
    "name": "ipython",
    "version": 3
   },
   "file_extension": ".py",
   "mimetype": "text/x-python",
   "name": "python",
   "nbconvert_exporter": "python",
   "pygments_lexer": "ipython3",
   "version": "3.8.8"
  }
 },
 "nbformat": 4,
 "nbformat_minor": 4
}
